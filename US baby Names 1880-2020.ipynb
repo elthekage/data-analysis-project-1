{
 "cells": [
  {
   "cell_type": "code",
   "execution_count": 1,
   "id": "b4113350-6d4d-4288-a756-5036e57d5b41",
   "metadata": {},
   "outputs": [],
   "source": [
    "import pandas as pd\n",
    "import numpy as np\n",
    "import matplotlib.pyplot as plt\n",
    "\n",
    "%matplotlib inline"
   ]
  },
  {
   "cell_type": "code",
   "execution_count": 2,
   "id": "d4f1de5d-867a-470f-a14b-18ae572051dd",
   "metadata": {},
   "outputs": [
    {
     "data": {
      "text/html": [
       "<div>\n",
       "<style scoped>\n",
       "    .dataframe tbody tr th:only-of-type {\n",
       "        vertical-align: middle;\n",
       "    }\n",
       "\n",
       "    .dataframe tbody tr th {\n",
       "        vertical-align: top;\n",
       "    }\n",
       "\n",
       "    .dataframe thead th {\n",
       "        text-align: right;\n",
       "    }\n",
       "</style>\n",
       "<table border=\"1\" class=\"dataframe\">\n",
       "  <thead>\n",
       "    <tr style=\"text-align: right;\">\n",
       "      <th></th>\n",
       "      <th>name</th>\n",
       "      <th>sex</th>\n",
       "      <th>count</th>\n",
       "      <th>year</th>\n",
       "    </tr>\n",
       "  </thead>\n",
       "  <tbody>\n",
       "    <tr>\n",
       "      <th>0</th>\n",
       "      <td>Mary</td>\n",
       "      <td>F</td>\n",
       "      <td>7065</td>\n",
       "      <td>1880</td>\n",
       "    </tr>\n",
       "    <tr>\n",
       "      <th>1</th>\n",
       "      <td>Anna</td>\n",
       "      <td>F</td>\n",
       "      <td>2604</td>\n",
       "      <td>1880</td>\n",
       "    </tr>\n",
       "    <tr>\n",
       "      <th>2</th>\n",
       "      <td>Emma</td>\n",
       "      <td>F</td>\n",
       "      <td>2003</td>\n",
       "      <td>1880</td>\n",
       "    </tr>\n",
       "    <tr>\n",
       "      <th>3</th>\n",
       "      <td>Elizabeth</td>\n",
       "      <td>F</td>\n",
       "      <td>1939</td>\n",
       "      <td>1880</td>\n",
       "    </tr>\n",
       "    <tr>\n",
       "      <th>4</th>\n",
       "      <td>Minnie</td>\n",
       "      <td>F</td>\n",
       "      <td>1746</td>\n",
       "      <td>1880</td>\n",
       "    </tr>\n",
       "  </tbody>\n",
       "</table>\n",
       "</div>"
      ],
      "text/plain": [
       "        name sex  count  year\n",
       "0       Mary   F   7065  1880\n",
       "1       Anna   F   2604  1880\n",
       "2       Emma   F   2003  1880\n",
       "3  Elizabeth   F   1939  1880\n",
       "4     Minnie   F   1746  1880"
      ]
     },
     "execution_count": 2,
     "metadata": {},
     "output_type": "execute_result"
    }
   ],
   "source": [
    "df=pd.read_csv('baby-names-national.csv')\n",
    "df.head(5)"
   ]
  },
  {
   "cell_type": "code",
   "execution_count": 3,
   "id": "4e0b5724-1e45-48ca-b312-03829d93a3a4",
   "metadata": {},
   "outputs": [],
   "source": [
    "grouped= df.groupby(['sex'])['count'].sum()"
   ]
  },
  {
   "cell_type": "code",
   "execution_count": 4,
   "id": "007ec447-c746-4c72-9762-74bfe7bca2cc",
   "metadata": {},
   "outputs": [
    {
     "data": {
      "text/plain": [
       "sex\n",
       "F    177378491\n",
       "M    181102218\n",
       "Name: count, dtype: int64"
      ]
     },
     "execution_count": 4,
     "metadata": {},
     "output_type": "execute_result"
    }
   ],
   "source": [
    "grouped\n"
   ]
  },
  {
   "cell_type": "code",
   "execution_count": 5,
   "id": "4147c3b1-4ce1-448b-87e4-c52c624dd37c",
   "metadata": {},
   "outputs": [],
   "source": [
    "bnames_count= df.pivot_table('count', index='year', columns='sex', aggfunc=sum)"
   ]
  },
  {
   "cell_type": "code",
   "execution_count": 6,
   "id": "946b2757-e3ad-44be-ad08-cfc0a614ba76",
   "metadata": {},
   "outputs": [
    {
     "data": {
      "text/html": [
       "<div>\n",
       "<style scoped>\n",
       "    .dataframe tbody tr th:only-of-type {\n",
       "        vertical-align: middle;\n",
       "    }\n",
       "\n",
       "    .dataframe tbody tr th {\n",
       "        vertical-align: top;\n",
       "    }\n",
       "\n",
       "    .dataframe thead th {\n",
       "        text-align: right;\n",
       "    }\n",
       "</style>\n",
       "<table border=\"1\" class=\"dataframe\">\n",
       "  <thead>\n",
       "    <tr style=\"text-align: right;\">\n",
       "      <th>sex</th>\n",
       "      <th>F</th>\n",
       "      <th>M</th>\n",
       "    </tr>\n",
       "    <tr>\n",
       "      <th>year</th>\n",
       "      <th></th>\n",
       "      <th></th>\n",
       "    </tr>\n",
       "  </thead>\n",
       "  <tbody>\n",
       "    <tr>\n",
       "      <th>1880</th>\n",
       "      <td>90994</td>\n",
       "      <td>110490</td>\n",
       "    </tr>\n",
       "    <tr>\n",
       "      <th>1881</th>\n",
       "      <td>91953</td>\n",
       "      <td>100738</td>\n",
       "    </tr>\n",
       "    <tr>\n",
       "      <th>1882</th>\n",
       "      <td>107847</td>\n",
       "      <td>113686</td>\n",
       "    </tr>\n",
       "    <tr>\n",
       "      <th>1883</th>\n",
       "      <td>112319</td>\n",
       "      <td>104625</td>\n",
       "    </tr>\n",
       "    <tr>\n",
       "      <th>1884</th>\n",
       "      <td>129019</td>\n",
       "      <td>114442</td>\n",
       "    </tr>\n",
       "    <tr>\n",
       "      <th>...</th>\n",
       "      <td>...</td>\n",
       "      <td>...</td>\n",
       "    </tr>\n",
       "    <tr>\n",
       "      <th>2016</th>\n",
       "      <td>1768360</td>\n",
       "      <td>1893917</td>\n",
       "    </tr>\n",
       "    <tr>\n",
       "      <th>2017</th>\n",
       "      <td>1722140</td>\n",
       "      <td>1846154</td>\n",
       "    </tr>\n",
       "    <tr>\n",
       "      <th>2018</th>\n",
       "      <td>1695654</td>\n",
       "      <td>1810309</td>\n",
       "    </tr>\n",
       "    <tr>\n",
       "      <th>2019</th>\n",
       "      <td>1670419</td>\n",
       "      <td>1785527</td>\n",
       "    </tr>\n",
       "    <tr>\n",
       "      <th>2020</th>\n",
       "      <td>1598836</td>\n",
       "      <td>1706423</td>\n",
       "    </tr>\n",
       "  </tbody>\n",
       "</table>\n",
       "<p>141 rows × 2 columns</p>\n",
       "</div>"
      ],
      "text/plain": [
       "sex         F        M\n",
       "year                  \n",
       "1880    90994   110490\n",
       "1881    91953   100738\n",
       "1882   107847   113686\n",
       "1883   112319   104625\n",
       "1884   129019   114442\n",
       "...       ...      ...\n",
       "2016  1768360  1893917\n",
       "2017  1722140  1846154\n",
       "2018  1695654  1810309\n",
       "2019  1670419  1785527\n",
       "2020  1598836  1706423\n",
       "\n",
       "[141 rows x 2 columns]"
      ]
     },
     "execution_count": 6,
     "metadata": {},
     "output_type": "execute_result"
    }
   ],
   "source": [
    "bnames_count"
   ]
  },
  {
   "cell_type": "code",
   "execution_count": 7,
   "id": "d03a0910-acbb-4254-9dff-69b1f876b33c",
   "metadata": {},
   "outputs": [
    {
     "data": {
      "text/plain": [
       "<AxesSubplot:title={'center':'total counts by sex and year'}, xlabel='year'>"
      ]
     },
     "execution_count": 7,
     "metadata": {},
     "output_type": "execute_result"
    },
    {
     "data": {
      "image/png": "[encoded data removed]",
      "text/plain": [
       "<Figure size 432x288 with 1 Axes>"
      ]
     },
     "metadata": {
      "needs_background": "light"
     },
     "output_type": "display_data"
    }
   ],
   "source": [
    "bnames_count.plot(title='total counts by sex and year')"
   ]
  },
  {
   "cell_type": "markdown",
   "id": "2a12dd51-c5a4-4505-a1e1-db3bf6c710a9",
   "metadata": {},
   "source": [
    "Next is identifying the fraction of babies given each name relative to the total number of births . A prop value of 0.5 would indicate that half of the babies were given a certain name. Thus, we group the data by year and sex, then we add  the new column to each group."
   ]
  },
  {
   "cell_type": "code",
   "execution_count": 8,
   "id": "66beae33-4389-43a0-a339-dc70b9f556d8",
   "metadata": {},
   "outputs": [],
   "source": [
    "def add_prop(group):\n",
    "    group['prop']= group['count']/group['count'].sum()\n",
    "    return group\n",
    "\n",
    "babynms=df.groupby(['year', 'sex']).apply(add_prop)"
   ]
  },
  {
   "cell_type": "code",
   "execution_count": 9,
   "id": "5fb84af8-e66d-41e7-8312-464255357b1e",
   "metadata": {},
   "outputs": [
    {
     "data": {
      "text/html": [
       "<div>\n",
       "<style scoped>\n",
       "    .dataframe tbody tr th:only-of-type {\n",
       "        vertical-align: middle;\n",
       "    }\n",
       "\n",
       "    .dataframe tbody tr th {\n",
       "        vertical-align: top;\n",
       "    }\n",
       "\n",
       "    .dataframe thead th {\n",
       "        text-align: right;\n",
       "    }\n",
       "</style>\n",
       "<table border=\"1\" class=\"dataframe\">\n",
       "  <thead>\n",
       "    <tr style=\"text-align: right;\">\n",
       "      <th></th>\n",
       "      <th>name</th>\n",
       "      <th>sex</th>\n",
       "      <th>count</th>\n",
       "      <th>year</th>\n",
       "      <th>prop</th>\n",
       "    </tr>\n",
       "  </thead>\n",
       "  <tbody>\n",
       "    <tr>\n",
       "      <th>0</th>\n",
       "      <td>Mary</td>\n",
       "      <td>F</td>\n",
       "      <td>7065</td>\n",
       "      <td>1880</td>\n",
       "      <td>0.077642</td>\n",
       "    </tr>\n",
       "    <tr>\n",
       "      <th>1</th>\n",
       "      <td>Anna</td>\n",
       "      <td>F</td>\n",
       "      <td>2604</td>\n",
       "      <td>1880</td>\n",
       "      <td>0.028617</td>\n",
       "    </tr>\n",
       "    <tr>\n",
       "      <th>2</th>\n",
       "      <td>Emma</td>\n",
       "      <td>F</td>\n",
       "      <td>2003</td>\n",
       "      <td>1880</td>\n",
       "      <td>0.022012</td>\n",
       "    </tr>\n",
       "    <tr>\n",
       "      <th>3</th>\n",
       "      <td>Elizabeth</td>\n",
       "      <td>F</td>\n",
       "      <td>1939</td>\n",
       "      <td>1880</td>\n",
       "      <td>0.021309</td>\n",
       "    </tr>\n",
       "    <tr>\n",
       "      <th>4</th>\n",
       "      <td>Minnie</td>\n",
       "      <td>F</td>\n",
       "      <td>1746</td>\n",
       "      <td>1880</td>\n",
       "      <td>0.019188</td>\n",
       "    </tr>\n",
       "    <tr>\n",
       "      <th>5</th>\n",
       "      <td>Margaret</td>\n",
       "      <td>F</td>\n",
       "      <td>1578</td>\n",
       "      <td>1880</td>\n",
       "      <td>0.017342</td>\n",
       "    </tr>\n",
       "    <tr>\n",
       "      <th>6</th>\n",
       "      <td>Ida</td>\n",
       "      <td>F</td>\n",
       "      <td>1472</td>\n",
       "      <td>1880</td>\n",
       "      <td>0.016177</td>\n",
       "    </tr>\n",
       "    <tr>\n",
       "      <th>7</th>\n",
       "      <td>Alice</td>\n",
       "      <td>F</td>\n",
       "      <td>1414</td>\n",
       "      <td>1880</td>\n",
       "      <td>0.015539</td>\n",
       "    </tr>\n",
       "    <tr>\n",
       "      <th>8</th>\n",
       "      <td>Bertha</td>\n",
       "      <td>F</td>\n",
       "      <td>1320</td>\n",
       "      <td>1880</td>\n",
       "      <td>0.014506</td>\n",
       "    </tr>\n",
       "    <tr>\n",
       "      <th>9</th>\n",
       "      <td>Sarah</td>\n",
       "      <td>F</td>\n",
       "      <td>1288</td>\n",
       "      <td>1880</td>\n",
       "      <td>0.014155</td>\n",
       "    </tr>\n",
       "    <tr>\n",
       "      <th>10</th>\n",
       "      <td>Annie</td>\n",
       "      <td>F</td>\n",
       "      <td>1258</td>\n",
       "      <td>1880</td>\n",
       "      <td>0.013825</td>\n",
       "    </tr>\n",
       "  </tbody>\n",
       "</table>\n",
       "</div>"
      ],
      "text/plain": [
       "         name sex  count  year      prop\n",
       "0        Mary   F   7065  1880  0.077642\n",
       "1        Anna   F   2604  1880  0.028617\n",
       "2        Emma   F   2003  1880  0.022012\n",
       "3   Elizabeth   F   1939  1880  0.021309\n",
       "4      Minnie   F   1746  1880  0.019188\n",
       "5    Margaret   F   1578  1880  0.017342\n",
       "6         Ida   F   1472  1880  0.016177\n",
       "7       Alice   F   1414  1880  0.015539\n",
       "8      Bertha   F   1320  1880  0.014506\n",
       "9       Sarah   F   1288  1880  0.014155\n",
       "10      Annie   F   1258  1880  0.013825"
      ]
     },
     "execution_count": 9,
     "metadata": {},
     "output_type": "execute_result"
    }
   ],
   "source": [
    "babynms.head(11)"
   ]
  },
  {
   "cell_type": "markdown",
   "id": "54c8ae2f-ec70-4e59-a5c6-b173f89ec5cf",
   "metadata": {},
   "source": [
    "Now this is done we are going to extract a subset of the data to facilitate further analysis"
   ]
  },
  {
   "cell_type": "code",
   "execution_count": 10,
   "id": "c3cd6625-ff55-449e-8ace-edde15fb73ec",
   "metadata": {},
   "outputs": [],
   "source": [
    "def get_top1000(group):\n",
    "    return group.sort_values('count', ascending=False)[:1000]\n",
    "\n",
    "top1000_names=babynms.groupby(['year', 'sex']).apply(get_top1000)"
   ]
  },
  {
   "cell_type": "code",
   "execution_count": 11,
   "id": "e9863b19-38c3-4934-8b6e-ebdffdee468f",
   "metadata": {},
   "outputs": [],
   "source": [
    "top1000_names=top1000_names.reset_index(drop=True)"
   ]
  },
  {
   "cell_type": "code",
   "execution_count": 12,
   "id": "bf6bbf93-31c7-4da6-bb07-2d55d39cdda7",
   "metadata": {},
   "outputs": [
    {
     "data": {
      "text/html": [
       "<div>\n",
       "<style scoped>\n",
       "    .dataframe tbody tr th:only-of-type {\n",
       "        vertical-align: middle;\n",
       "    }\n",
       "\n",
       "    .dataframe tbody tr th {\n",
       "        vertical-align: top;\n",
       "    }\n",
       "\n",
       "    .dataframe thead th {\n",
       "        text-align: right;\n",
       "    }\n",
       "</style>\n",
       "<table border=\"1\" class=\"dataframe\">\n",
       "  <thead>\n",
       "    <tr style=\"text-align: right;\">\n",
       "      <th></th>\n",
       "      <th>name</th>\n",
       "      <th>sex</th>\n",
       "      <th>count</th>\n",
       "      <th>year</th>\n",
       "      <th>prop</th>\n",
       "    </tr>\n",
       "  </thead>\n",
       "  <tbody>\n",
       "    <tr>\n",
       "      <th>0</th>\n",
       "      <td>Mary</td>\n",
       "      <td>F</td>\n",
       "      <td>7065</td>\n",
       "      <td>1880</td>\n",
       "      <td>0.077642</td>\n",
       "    </tr>\n",
       "    <tr>\n",
       "      <th>1</th>\n",
       "      <td>Anna</td>\n",
       "      <td>F</td>\n",
       "      <td>2604</td>\n",
       "      <td>1880</td>\n",
       "      <td>0.028617</td>\n",
       "    </tr>\n",
       "    <tr>\n",
       "      <th>2</th>\n",
       "      <td>Emma</td>\n",
       "      <td>F</td>\n",
       "      <td>2003</td>\n",
       "      <td>1880</td>\n",
       "      <td>0.022012</td>\n",
       "    </tr>\n",
       "    <tr>\n",
       "      <th>3</th>\n",
       "      <td>Elizabeth</td>\n",
       "      <td>F</td>\n",
       "      <td>1939</td>\n",
       "      <td>1880</td>\n",
       "      <td>0.021309</td>\n",
       "    </tr>\n",
       "    <tr>\n",
       "      <th>4</th>\n",
       "      <td>Minnie</td>\n",
       "      <td>F</td>\n",
       "      <td>1746</td>\n",
       "      <td>1880</td>\n",
       "      <td>0.019188</td>\n",
       "    </tr>\n",
       "  </tbody>\n",
       "</table>\n",
       "</div>"
      ],
      "text/plain": [
       "        name sex  count  year      prop\n",
       "0       Mary   F   7065  1880  0.077642\n",
       "1       Anna   F   2604  1880  0.028617\n",
       "2       Emma   F   2003  1880  0.022012\n",
       "3  Elizabeth   F   1939  1880  0.021309\n",
       "4     Minnie   F   1746  1880  0.019188"
      ]
     },
     "execution_count": 12,
     "metadata": {},
     "output_type": "execute_result"
    }
   ],
   "source": [
    "top1000_names.head()"
   ]
  },
  {
   "cell_type": "markdown",
   "id": "57de3537-6ec7-4e5c-bdce-7509b1037e43",
   "metadata": {},
   "source": [
    "ANALYZING NAMING TRENDS"
   ]
  },
  {
   "cell_type": "code",
   "execution_count": 13,
   "id": "d978f204-b5b3-44f4-a037-008294a70d37",
   "metadata": {},
   "outputs": [],
   "source": [
    "boys=top1000_names[top1000_names['sex']=='M']"
   ]
  },
  {
   "cell_type": "code",
   "execution_count": 14,
   "id": "41ae1985-c9ea-4d6f-b84b-10d4c52edf1a",
   "metadata": {},
   "outputs": [
    {
     "data": {
      "text/html": [
       "<div>\n",
       "<style scoped>\n",
       "    .dataframe tbody tr th:only-of-type {\n",
       "        vertical-align: middle;\n",
       "    }\n",
       "\n",
       "    .dataframe tbody tr th {\n",
       "        vertical-align: top;\n",
       "    }\n",
       "\n",
       "    .dataframe thead th {\n",
       "        text-align: right;\n",
       "    }\n",
       "</style>\n",
       "<table border=\"1\" class=\"dataframe\">\n",
       "  <thead>\n",
       "    <tr style=\"text-align: right;\">\n",
       "      <th></th>\n",
       "      <th>name</th>\n",
       "      <th>sex</th>\n",
       "      <th>count</th>\n",
       "      <th>year</th>\n",
       "      <th>prop</th>\n",
       "    </tr>\n",
       "  </thead>\n",
       "  <tbody>\n",
       "    <tr>\n",
       "      <th>942</th>\n",
       "      <td>John</td>\n",
       "      <td>M</td>\n",
       "      <td>9655</td>\n",
       "      <td>1880</td>\n",
       "      <td>0.087383</td>\n",
       "    </tr>\n",
       "    <tr>\n",
       "      <th>943</th>\n",
       "      <td>William</td>\n",
       "      <td>M</td>\n",
       "      <td>9532</td>\n",
       "      <td>1880</td>\n",
       "      <td>0.086270</td>\n",
       "    </tr>\n",
       "    <tr>\n",
       "      <th>944</th>\n",
       "      <td>James</td>\n",
       "      <td>M</td>\n",
       "      <td>5927</td>\n",
       "      <td>1880</td>\n",
       "      <td>0.053643</td>\n",
       "    </tr>\n",
       "    <tr>\n",
       "      <th>945</th>\n",
       "      <td>Charles</td>\n",
       "      <td>M</td>\n",
       "      <td>5348</td>\n",
       "      <td>1880</td>\n",
       "      <td>0.048403</td>\n",
       "    </tr>\n",
       "    <tr>\n",
       "      <th>946</th>\n",
       "      <td>George</td>\n",
       "      <td>M</td>\n",
       "      <td>5126</td>\n",
       "      <td>1880</td>\n",
       "      <td>0.046393</td>\n",
       "    </tr>\n",
       "  </tbody>\n",
       "</table>\n",
       "</div>"
      ],
      "text/plain": [
       "        name sex  count  year      prop\n",
       "942     John   M   9655  1880  0.087383\n",
       "943  William   M   9532  1880  0.086270\n",
       "944    James   M   5927  1880  0.053643\n",
       "945  Charles   M   5348  1880  0.048403\n",
       "946   George   M   5126  1880  0.046393"
      ]
     },
     "execution_count": 14,
     "metadata": {},
     "output_type": "execute_result"
    }
   ],
   "source": [
    "boys.head()"
   ]
  },
  {
   "cell_type": "code",
   "execution_count": 15,
   "id": "c51945d0-5c98-40bd-ad60-7dc9a5a624c3",
   "metadata": {},
   "outputs": [],
   "source": [
    "girls=top1000_names[top1000_names['sex']=='F']"
   ]
  },
  {
   "cell_type": "code",
   "execution_count": 16,
   "id": "538b8734-9060-4501-951f-74b761e42600",
   "metadata": {},
   "outputs": [],
   "source": [
    "total_births=top1000_names.pivot_table('count', index='year', columns='name', aggfunc=sum)"
   ]
  },
  {
   "cell_type": "code",
   "execution_count": 17,
   "id": "b6c79c78-dd1e-492a-88d4-b176c0aa1f85",
   "metadata": {},
   "outputs": [],
   "source": [
    "subset=total_births[['John','William','Mary', 'Anna']]"
   ]
  },
  {
   "cell_type": "code",
   "execution_count": 18,
   "id": "29f10444-42b3-415c-a096-d222cb56ed05",
   "metadata": {},
   "outputs": [
    {
     "data": {
      "text/plain": [
       "array([<AxesSubplot:xlabel='year'>, <AxesSubplot:xlabel='year'>,\n",
       "       <AxesSubplot:xlabel='year'>, <AxesSubplot:xlabel='year'>],\n",
       "      dtype=object)"
      ]
     },
     "execution_count": 18,
     "metadata": {},
     "output_type": "execute_result"
    },
    {
     "data": {
      "image/png": "[encoded data removed]",
      "text/plain": [
       "<Figure size 720x576 with 4 Axes>"
      ]
     },
     "metadata": {
      "needs_background": "light"
     },
     "output_type": "display_data"
    }
   ],
   "source": [
    "subset.plot(subplots=True, title='Number of births per year', figsize=(10,8))"
   ]
  },
  {
   "cell_type": "code",
   "execution_count": null,
   "id": "95e28183-4cad-4d71-96b8-98628ad965d8",
   "metadata": {},
   "outputs": [],
   "source": []
  },
  {
   "cell_type": "markdown",
   "id": "ce2c6ec3-a99d-4173-af37-98ad894db989",
   "metadata": {},
   "source": [
    "Measuring the increase in the name diversity"
   ]
  },
  {
   "cell_type": "markdown",
   "id": "16a53c3b-807d-43df-944c-a12386433d44",
   "metadata": {},
   "source": [
    "One reason for the decrease in plots is that fewer parents are choosing common names for their children. This hypothesis can be explored and confirmed in the data. One measure is the proportion of births represented by the top 1000 most popular names, which I aggregate and plot by year and sex"
   ]
  },
  {
   "cell_type": "code",
   "execution_count": 19,
   "id": "21c6401f-dbb1-4f45-ac56-c4bd56e6bca6",
   "metadata": {},
   "outputs": [],
   "source": [
    "table= top1000_names.pivot_table('prop', index='year',columns='sex', aggfunc=sum)"
   ]
  },
  {
   "cell_type": "code",
   "execution_count": null,
   "id": "5d77e965-8529-42c1-8cb6-f1e7e483143e",
   "metadata": {},
   "outputs": [],
   "source": []
  },
  {
   "cell_type": "code",
   "execution_count": 20,
   "id": "97a2b278-4352-48be-b50d-14ae8f11c863",
   "metadata": {},
   "outputs": [
    {
     "data": {
      "text/plain": [
       "<AxesSubplot:title={'center':'Sum of table1000.prop by year and sex'}, xlabel='year'>"
      ]
     },
     "execution_count": 20,
     "metadata": {},
     "output_type": "execute_result"
    },
    {
     "data": {
      "image/png": "[encoded data removed]",
      "text/plain": [
       "<Figure size 432x288 with 1 Axes>"
      ]
     },
     "metadata": {
      "needs_background": "light"
     },
     "output_type": "display_data"
    }
   ],
   "source": [
    "table.plot(title='Sum of table1000.prop by year and sex',yticks=np.linspace(0,1.5,13))"
   ]
  },
  {
   "cell_type": "markdown",
   "id": "f23d6a04-9709-4735-a975-8e09c073d132",
   "metadata": {},
   "source": [
    "From the graph above it is obvious that there appears to be increasing in name diversity (total proportion in the top one thousand )\n",
    "Also we can now find the number of distinct names, taken in order of popularity from higherst to lowest, in the top 50 percent of births. This number is trickier to compute. Let's consider just the boy nanes from 2020"
   ]
  },
  {
   "cell_type": "code",
   "execution_count": 21,
   "id": "9edaa447-03ad-4051-a25b-8e4465441e0c",
   "metadata": {},
   "outputs": [],
   "source": [
    "df_boys=boys[boys['year']==2020]"
   ]
  },
  {
   "cell_type": "code",
   "execution_count": 22,
   "id": "d2fafb59-1449-4e6e-bad7-debf972c6f04",
   "metadata": {},
   "outputs": [
    {
     "data": {
      "text/html": [
       "<div>\n",
       "<style scoped>\n",
       "    .dataframe tbody tr th:only-of-type {\n",
       "        vertical-align: middle;\n",
       "    }\n",
       "\n",
       "    .dataframe tbody tr th {\n",
       "        vertical-align: top;\n",
       "    }\n",
       "\n",
       "    .dataframe thead th {\n",
       "        text-align: right;\n",
       "    }\n",
       "</style>\n",
       "<table border=\"1\" class=\"dataframe\">\n",
       "  <thead>\n",
       "    <tr style=\"text-align: right;\">\n",
       "      <th></th>\n",
       "      <th>name</th>\n",
       "      <th>sex</th>\n",
       "      <th>count</th>\n",
       "      <th>year</th>\n",
       "      <th>prop</th>\n",
       "    </tr>\n",
       "  </thead>\n",
       "  <tbody>\n",
       "    <tr>\n",
       "      <th>280876</th>\n",
       "      <td>Liam</td>\n",
       "      <td>M</td>\n",
       "      <td>19659</td>\n",
       "      <td>2020</td>\n",
       "      <td>0.011521</td>\n",
       "    </tr>\n",
       "    <tr>\n",
       "      <th>280877</th>\n",
       "      <td>Noah</td>\n",
       "      <td>M</td>\n",
       "      <td>18252</td>\n",
       "      <td>2020</td>\n",
       "      <td>0.010696</td>\n",
       "    </tr>\n",
       "    <tr>\n",
       "      <th>280878</th>\n",
       "      <td>Oliver</td>\n",
       "      <td>M</td>\n",
       "      <td>14147</td>\n",
       "      <td>2020</td>\n",
       "      <td>0.008290</td>\n",
       "    </tr>\n",
       "    <tr>\n",
       "      <th>280879</th>\n",
       "      <td>Elijah</td>\n",
       "      <td>M</td>\n",
       "      <td>13034</td>\n",
       "      <td>2020</td>\n",
       "      <td>0.007638</td>\n",
       "    </tr>\n",
       "    <tr>\n",
       "      <th>280880</th>\n",
       "      <td>William</td>\n",
       "      <td>M</td>\n",
       "      <td>12541</td>\n",
       "      <td>2020</td>\n",
       "      <td>0.007349</td>\n",
       "    </tr>\n",
       "  </tbody>\n",
       "</table>\n",
       "</div>"
      ],
      "text/plain": [
       "           name sex  count  year      prop\n",
       "280876     Liam   M  19659  2020  0.011521\n",
       "280877     Noah   M  18252  2020  0.010696\n",
       "280878   Oliver   M  14147  2020  0.008290\n",
       "280879   Elijah   M  13034  2020  0.007638\n",
       "280880  William   M  12541  2020  0.007349"
      ]
     },
     "execution_count": 22,
     "metadata": {},
     "output_type": "execute_result"
    }
   ],
   "source": [
    "df_boys.head()"
   ]
  },
  {
   "cell_type": "markdown",
   "id": "10c852ec-1af5-4f56-94e9-0932d319ec80",
   "metadata": {},
   "source": [
    "After sorting prop in descendiing order, we want to know how many of the most popular names it takes to reach 50% .Taking the cumulative sum,cumsum, of the prop and then calling the method searchsorted  returns the position in the cumulative sum at which 0.5 would need to be inserted to keep it in sorted order:"
   ]
  },
  {
   "cell_type": "code",
   "execution_count": 23,
   "id": "4eeb3f27-db96-4f39-bb5a-38e14c3fe857",
   "metadata": {},
   "outputs": [],
   "source": [
    "prop_cumsum=df_boys['prop'].sort_values(ascending= False).cumsum()"
   ]
  },
  {
   "cell_type": "code",
   "execution_count": 24,
   "id": "ea33e75e-9a95-4c7e-b94e-2dce0cdefef4",
   "metadata": {},
   "outputs": [
    {
     "data": {
      "text/plain": [
       "280876    0.011521\n",
       "280877    0.022217\n",
       "280878    0.030507\n",
       "280879    0.038145\n",
       "280880    0.045495\n",
       "280881    0.052673\n",
       "280882    0.059785\n",
       "280883    0.066396\n",
       "280884    0.072670\n",
       "280885    0.078618\n",
       "280886    0.084495\n",
       "Name: prop, dtype: float64"
      ]
     },
     "execution_count": 24,
     "metadata": {},
     "output_type": "execute_result"
    }
   ],
   "source": [
    "prop_cumsum[:11]"
   ]
  },
  {
   "cell_type": "code",
   "execution_count": 25,
   "id": "cdd1ff63-331d-4612-afc0-a0cfe688345f",
   "metadata": {},
   "outputs": [
    {
     "data": {
      "text/plain": [
       "163"
      ]
     },
     "execution_count": 25,
     "metadata": {},
     "output_type": "execute_result"
    }
   ],
   "source": [
    "prop_cumsum.searchsorted(0.5)+1"
   ]
  },
  {
   "cell_type": "markdown",
   "id": "fe5f79c7-cbea-4697-a494-e79b1b1e874f",
   "metadata": {},
   "source": [
    "We can now apply this operation to each year/sex combination, groupby those fields, and apply a function returning the count for each grouop:\n",
    "    "
   ]
  },
  {
   "cell_type": "code",
   "execution_count": 27,
   "id": "b751f140-2e30-4de5-b094-618e8d50dc6b",
   "metadata": {},
   "outputs": [],
   "source": [
    "def get_quantile_count(group, q=0.5):\n",
    "    sorted=group.sort_values('prop', ascending=False)\n",
    "    return sorted.prop.cumsum().searchsorted(q)+1\n",
    "\n",
    "dist_names= top1000_names.groupby(['year','sex']).apply(get_quantile_count)\n",
    "dist_names=dist_names.unstack()"
   ]
  },
  {
   "cell_type": "code",
   "execution_count": 28,
   "id": "bac9b116-ee0a-4aa5-9c8c-d271ed936f1e",
   "metadata": {},
   "outputs": [
    {
     "data": {
      "text/html": [
       "<div>\n",
       "<style scoped>\n",
       "    .dataframe tbody tr th:only-of-type {\n",
       "        vertical-align: middle;\n",
       "    }\n",
       "\n",
       "    .dataframe tbody tr th {\n",
       "        vertical-align: top;\n",
       "    }\n",
       "\n",
       "    .dataframe thead th {\n",
       "        text-align: right;\n",
       "    }\n",
       "</style>\n",
       "<table border=\"1\" class=\"dataframe\">\n",
       "  <thead>\n",
       "    <tr style=\"text-align: right;\">\n",
       "      <th>sex</th>\n",
       "      <th>F</th>\n",
       "      <th>M</th>\n",
       "    </tr>\n",
       "    <tr>\n",
       "      <th>year</th>\n",
       "      <th></th>\n",
       "      <th></th>\n",
       "    </tr>\n",
       "  </thead>\n",
       "  <tbody>\n",
       "    <tr>\n",
       "      <th>1880</th>\n",
       "      <td>38</td>\n",
       "      <td>14</td>\n",
       "    </tr>\n",
       "    <tr>\n",
       "      <th>1881</th>\n",
       "      <td>38</td>\n",
       "      <td>14</td>\n",
       "    </tr>\n",
       "    <tr>\n",
       "      <th>1882</th>\n",
       "      <td>38</td>\n",
       "      <td>15</td>\n",
       "    </tr>\n",
       "    <tr>\n",
       "      <th>1883</th>\n",
       "      <td>39</td>\n",
       "      <td>15</td>\n",
       "    </tr>\n",
       "    <tr>\n",
       "      <th>1884</th>\n",
       "      <td>39</td>\n",
       "      <td>16</td>\n",
       "    </tr>\n",
       "  </tbody>\n",
       "</table>\n",
       "</div>"
      ],
      "text/plain": [
       "sex    F   M\n",
       "year        \n",
       "1880  38  14\n",
       "1881  38  14\n",
       "1882  38  15\n",
       "1883  39  15\n",
       "1884  39  16"
      ]
     },
     "execution_count": 28,
     "metadata": {},
     "output_type": "execute_result"
    }
   ],
   "source": [
    "dist_names.head()"
   ]
  },
  {
   "cell_type": "code",
   "execution_count": 29,
   "id": "e9ed1e1d-9d5e-4905-b262-d1fef63a96dd",
   "metadata": {},
   "outputs": [
    {
     "data": {
      "text/plain": [
       "<AxesSubplot:title={'center':'Number of popular names in the top 50%'}, xlabel='year'>"
      ]
     },
     "execution_count": 29,
     "metadata": {},
     "output_type": "execute_result"
    },
    {
     "data": {
      "image/png": "[encoded data removed]",
      "text/plain": [
       "<Figure size 432x288 with 1 Axes>"
      ]
     },
     "metadata": {
      "needs_background": "light"
     },
     "output_type": "display_data"
    }
   ],
   "source": [
    "dist_names.plot(title='Number of popular names in the top 50%')"
   ]
  },
  {
   "cell_type": "code",
   "execution_count": null,
   "id": "1cb8a0df-d17e-40e1-809c-82176994e1cc",
   "metadata": {},
   "outputs": [],
   "source": []
  },
  {
   "cell_type": "markdown",
   "id": "7b56fd06-748c-47ef-8002-1fda8e8db4f2",
   "metadata": {},
   "source": [
    "\"Last letter\" revolution"
   ]
  },
  {
   "cell_type": "code",
   "execution_count": 30,
   "id": "0685d396-7998-44e0-8d71-a0f59f61af59",
   "metadata": {},
   "outputs": [],
   "source": [
    "def get_lastletter(x):\n",
    "    return x[-1]\n",
    "\n",
    "last_letters= df['name'].map(get_lastletter)"
   ]
  },
  {
   "cell_type": "code",
   "execution_count": 31,
   "id": "0667a311-bba1-433d-bbc0-9351184b1f18",
   "metadata": {},
   "outputs": [],
   "source": [
    "last_letters.name= 'last_letter'\n"
   ]
  },
  {
   "cell_type": "code",
   "execution_count": 32,
   "id": "a5dec41a-4c97-4226-a46b-3963e131ea46",
   "metadata": {},
   "outputs": [],
   "source": [
    "table=df.pivot_table('count', index=last_letters, columns=['sex','year'], aggfunc=sum)"
   ]
  },
  {
   "cell_type": "code",
   "execution_count": 33,
   "id": "a098ef73-f624-4405-a62b-0a36d44fdcdf",
   "metadata": {},
   "outputs": [],
   "source": [
    "subtable=table.reindex(columns=[2000,2010,2020], level='year')"
   ]
  },
  {
   "cell_type": "code",
   "execution_count": 34,
   "id": "4865ca63-625a-49ce-a906-7dfc4f388509",
   "metadata": {},
   "outputs": [
    {
     "data": {
      "text/html": [
       "<div>\n",
       "<style scoped>\n",
       "    .dataframe tbody tr th:only-of-type {\n",
       "        vertical-align: middle;\n",
       "    }\n",
       "\n",
       "    .dataframe tbody tr th {\n",
       "        vertical-align: top;\n",
       "    }\n",
       "\n",
       "    .dataframe thead tr th {\n",
       "        text-align: left;\n",
       "    }\n",
       "\n",
       "    .dataframe thead tr:last-of-type th {\n",
       "        text-align: right;\n",
       "    }\n",
       "</style>\n",
       "<table border=\"1\" class=\"dataframe\">\n",
       "  <thead>\n",
       "    <tr>\n",
       "      <th>sex</th>\n",
       "      <th colspan=\"3\" halign=\"left\">F</th>\n",
       "      <th colspan=\"3\" halign=\"left\">M</th>\n",
       "    </tr>\n",
       "    <tr>\n",
       "      <th>year</th>\n",
       "      <th>2000</th>\n",
       "      <th>2010</th>\n",
       "      <th>2020</th>\n",
       "      <th>2000</th>\n",
       "      <th>2010</th>\n",
       "      <th>2020</th>\n",
       "    </tr>\n",
       "    <tr>\n",
       "      <th>last_letter</th>\n",
       "      <th></th>\n",
       "      <th></th>\n",
       "      <th></th>\n",
       "      <th></th>\n",
       "      <th></th>\n",
       "      <th></th>\n",
       "    </tr>\n",
       "  </thead>\n",
       "  <tbody>\n",
       "    <tr>\n",
       "      <th>a</th>\n",
       "      <td>676150.0</td>\n",
       "      <td>677100.0</td>\n",
       "      <td>610878.0</td>\n",
       "      <td>40864.0</td>\n",
       "      <td>28882.0</td>\n",
       "      <td>33463.0</td>\n",
       "    </tr>\n",
       "    <tr>\n",
       "      <th>b</th>\n",
       "      <td>372.0</td>\n",
       "      <td>455.0</td>\n",
       "      <td>530.0</td>\n",
       "      <td>50933.0</td>\n",
       "      <td>39294.0</td>\n",
       "      <td>17947.0</td>\n",
       "    </tr>\n",
       "    <tr>\n",
       "      <th>c</th>\n",
       "      <td>525.0</td>\n",
       "      <td>957.0</td>\n",
       "      <td>884.0</td>\n",
       "      <td>27027.0</td>\n",
       "      <td>23357.0</td>\n",
       "      <td>16541.0</td>\n",
       "    </tr>\n",
       "    <tr>\n",
       "      <th>d</th>\n",
       "      <td>4383.0</td>\n",
       "      <td>2645.0</td>\n",
       "      <td>3773.0</td>\n",
       "      <td>64355.0</td>\n",
       "      <td>44851.0</td>\n",
       "      <td>38591.0</td>\n",
       "    </tr>\n",
       "    <tr>\n",
       "      <th>e</th>\n",
       "      <td>318492.0</td>\n",
       "      <td>316878.0</td>\n",
       "      <td>283355.0</td>\n",
       "      <td>148954.0</td>\n",
       "      <td>130307.0</td>\n",
       "      <td>115556.0</td>\n",
       "    </tr>\n",
       "  </tbody>\n",
       "</table>\n",
       "</div>"
      ],
      "text/plain": [
       "sex                 F                             M                    \n",
       "year             2000      2010      2020      2000      2010      2020\n",
       "last_letter                                                            \n",
       "a            676150.0  677100.0  610878.0   40864.0   28882.0   33463.0\n",
       "b               372.0     455.0     530.0   50933.0   39294.0   17947.0\n",
       "c               525.0     957.0     884.0   27027.0   23357.0   16541.0\n",
       "d              4383.0    2645.0    3773.0   64355.0   44851.0   38591.0\n",
       "e            318492.0  316878.0  283355.0  148954.0  130307.0  115556.0"
      ]
     },
     "execution_count": 34,
     "metadata": {},
     "output_type": "execute_result"
    }
   ],
   "source": [
    "subtable.head(5)"
   ]
  },
  {
   "cell_type": "code",
   "execution_count": 35,
   "id": "25578020-795c-4093-9374-72a148d13fc5",
   "metadata": {},
   "outputs": [],
   "source": [
    "letter_prop= subtable/subtable.sum()"
   ]
  },
  {
   "cell_type": "code",
   "execution_count": 36,
   "id": "87c4f318-f30a-4e00-81ee-2795246e6415",
   "metadata": {},
   "outputs": [
    {
     "data": {
      "text/html": [
       "<div>\n",
       "<style scoped>\n",
       "    .dataframe tbody tr th:only-of-type {\n",
       "        vertical-align: middle;\n",
       "    }\n",
       "\n",
       "    .dataframe tbody tr th {\n",
       "        vertical-align: top;\n",
       "    }\n",
       "\n",
       "    .dataframe thead tr th {\n",
       "        text-align: left;\n",
       "    }\n",
       "\n",
       "    .dataframe thead tr:last-of-type th {\n",
       "        text-align: right;\n",
       "    }\n",
       "</style>\n",
       "<table border=\"1\" class=\"dataframe\">\n",
       "  <thead>\n",
       "    <tr>\n",
       "      <th>sex</th>\n",
       "      <th colspan=\"3\" halign=\"left\">F</th>\n",
       "      <th colspan=\"3\" halign=\"left\">M</th>\n",
       "    </tr>\n",
       "    <tr>\n",
       "      <th>year</th>\n",
       "      <th>2000</th>\n",
       "      <th>2010</th>\n",
       "      <th>2020</th>\n",
       "      <th>2000</th>\n",
       "      <th>2010</th>\n",
       "      <th>2020</th>\n",
       "    </tr>\n",
       "    <tr>\n",
       "      <th>last_letter</th>\n",
       "      <th></th>\n",
       "      <th></th>\n",
       "      <th></th>\n",
       "      <th></th>\n",
       "      <th></th>\n",
       "      <th></th>\n",
       "    </tr>\n",
       "  </thead>\n",
       "  <tbody>\n",
       "    <tr>\n",
       "      <th>a</th>\n",
       "      <td>0.372423</td>\n",
       "      <td>0.381253</td>\n",
       "      <td>0.382077</td>\n",
       "      <td>0.020812</td>\n",
       "      <td>0.015065</td>\n",
       "      <td>0.019610</td>\n",
       "    </tr>\n",
       "    <tr>\n",
       "      <th>b</th>\n",
       "      <td>0.000205</td>\n",
       "      <td>0.000256</td>\n",
       "      <td>0.000331</td>\n",
       "      <td>0.025940</td>\n",
       "      <td>0.020496</td>\n",
       "      <td>0.010517</td>\n",
       "    </tr>\n",
       "    <tr>\n",
       "      <th>c</th>\n",
       "      <td>0.000289</td>\n",
       "      <td>0.000539</td>\n",
       "      <td>0.000553</td>\n",
       "      <td>0.013765</td>\n",
       "      <td>0.012183</td>\n",
       "      <td>0.009693</td>\n",
       "    </tr>\n",
       "    <tr>\n",
       "      <th>d</th>\n",
       "      <td>0.002414</td>\n",
       "      <td>0.001489</td>\n",
       "      <td>0.002360</td>\n",
       "      <td>0.032776</td>\n",
       "      <td>0.023394</td>\n",
       "      <td>0.022615</td>\n",
       "    </tr>\n",
       "    <tr>\n",
       "      <th>e</th>\n",
       "      <td>0.175425</td>\n",
       "      <td>0.178424</td>\n",
       "      <td>0.177226</td>\n",
       "      <td>0.075863</td>\n",
       "      <td>0.067968</td>\n",
       "      <td>0.067718</td>\n",
       "    </tr>\n",
       "    <tr>\n",
       "      <th>f</th>\n",
       "      <td>0.000015</td>\n",
       "      <td>0.000055</td>\n",
       "      <td>0.000101</td>\n",
       "      <td>0.000877</td>\n",
       "      <td>0.001206</td>\n",
       "      <td>0.001569</td>\n",
       "    </tr>\n",
       "    <tr>\n",
       "      <th>g</th>\n",
       "      <td>0.000322</td>\n",
       "      <td>0.000377</td>\n",
       "      <td>0.000439</td>\n",
       "      <td>0.001223</td>\n",
       "      <td>0.001407</td>\n",
       "      <td>0.002667</td>\n",
       "    </tr>\n",
       "    <tr>\n",
       "      <th>h</th>\n",
       "      <td>0.064642</td>\n",
       "      <td>0.075989</td>\n",
       "      <td>0.069198</td>\n",
       "      <td>0.043353</td>\n",
       "      <td>0.051822</td>\n",
       "      <td>0.054508</td>\n",
       "    </tr>\n",
       "    <tr>\n",
       "      <th>i</th>\n",
       "      <td>0.023461</td>\n",
       "      <td>0.031697</td>\n",
       "      <td>0.047678</td>\n",
       "      <td>0.009355</td>\n",
       "      <td>0.022670</td>\n",
       "      <td>0.032438</td>\n",
       "    </tr>\n",
       "    <tr>\n",
       "      <th>j</th>\n",
       "      <td>0.000054</td>\n",
       "      <td>0.000093</td>\n",
       "      <td>0.000087</td>\n",
       "      <td>0.000469</td>\n",
       "      <td>0.000772</td>\n",
       "      <td>0.000849</td>\n",
       "    </tr>\n",
       "    <tr>\n",
       "      <th>k</th>\n",
       "      <td>0.000319</td>\n",
       "      <td>0.000355</td>\n",
       "      <td>0.000362</td>\n",
       "      <td>0.022681</td>\n",
       "      <td>0.018532</td>\n",
       "      <td>0.020408</td>\n",
       "    </tr>\n",
       "    <tr>\n",
       "      <th>l</th>\n",
       "      <td>0.031196</td>\n",
       "      <td>0.026390</td>\n",
       "      <td>0.021209</td>\n",
       "      <td>0.079176</td>\n",
       "      <td>0.070457</td>\n",
       "      <td>0.065354</td>\n",
       "    </tr>\n",
       "    <tr>\n",
       "      <th>m</th>\n",
       "      <td>0.002107</td>\n",
       "      <td>0.002599</td>\n",
       "      <td>0.004158</td>\n",
       "      <td>0.021124</td>\n",
       "      <td>0.024706</td>\n",
       "      <td>0.032865</td>\n",
       "    </tr>\n",
       "    <tr>\n",
       "      <th>n</th>\n",
       "      <td>0.136865</td>\n",
       "      <td>0.140053</td>\n",
       "      <td>0.113937</td>\n",
       "      <td>0.313020</td>\n",
       "      <td>0.362410</td>\n",
       "      <td>0.314847</td>\n",
       "    </tr>\n",
       "    <tr>\n",
       "      <th>o</th>\n",
       "      <td>0.001213</td>\n",
       "      <td>0.001247</td>\n",
       "      <td>0.002166</td>\n",
       "      <td>0.041044</td>\n",
       "      <td>0.042563</td>\n",
       "      <td>0.060136</td>\n",
       "    </tr>\n",
       "    <tr>\n",
       "      <th>p</th>\n",
       "      <td>0.000022</td>\n",
       "      <td>0.000020</td>\n",
       "      <td>0.000095</td>\n",
       "      <td>0.001810</td>\n",
       "      <td>0.001269</td>\n",
       "      <td>0.001512</td>\n",
       "    </tr>\n",
       "    <tr>\n",
       "      <th>q</th>\n",
       "      <td>NaN</td>\n",
       "      <td>0.000030</td>\n",
       "      <td>0.000043</td>\n",
       "      <td>0.000357</td>\n",
       "      <td>0.000180</td>\n",
       "      <td>0.000192</td>\n",
       "    </tr>\n",
       "    <tr>\n",
       "      <th>r</th>\n",
       "      <td>0.027969</td>\n",
       "      <td>0.018047</td>\n",
       "      <td>0.033274</td>\n",
       "      <td>0.086377</td>\n",
       "      <td>0.087393</td>\n",
       "      <td>0.095193</td>\n",
       "    </tr>\n",
       "    <tr>\n",
       "      <th>s</th>\n",
       "      <td>0.017958</td>\n",
       "      <td>0.013337</td>\n",
       "      <td>0.011769</td>\n",
       "      <td>0.074373</td>\n",
       "      <td>0.065158</td>\n",
       "      <td>0.077964</td>\n",
       "    </tr>\n",
       "    <tr>\n",
       "      <th>t</th>\n",
       "      <td>0.005395</td>\n",
       "      <td>0.007838</td>\n",
       "      <td>0.014742</td>\n",
       "      <td>0.025825</td>\n",
       "      <td>0.022861</td>\n",
       "      <td>0.032832</td>\n",
       "    </tr>\n",
       "    <tr>\n",
       "      <th>u</th>\n",
       "      <td>0.000263</td>\n",
       "      <td>0.000416</td>\n",
       "      <td>0.000667</td>\n",
       "      <td>0.000915</td>\n",
       "      <td>0.001228</td>\n",
       "      <td>0.003375</td>\n",
       "    </tr>\n",
       "    <tr>\n",
       "      <th>v</th>\n",
       "      <td>0.000023</td>\n",
       "      <td>0.000117</td>\n",
       "      <td>0.000290</td>\n",
       "      <td>0.000501</td>\n",
       "      <td>0.001451</td>\n",
       "      <td>0.001678</td>\n",
       "    </tr>\n",
       "    <tr>\n",
       "      <th>w</th>\n",
       "      <td>0.000468</td>\n",
       "      <td>0.001190</td>\n",
       "      <td>0.004168</td>\n",
       "      <td>0.028409</td>\n",
       "      <td>0.016183</td>\n",
       "      <td>0.009996</td>\n",
       "    </tr>\n",
       "    <tr>\n",
       "      <th>x</th>\n",
       "      <td>0.000406</td>\n",
       "      <td>0.000730</td>\n",
       "      <td>0.002093</td>\n",
       "      <td>0.005444</td>\n",
       "      <td>0.008599</td>\n",
       "      <td>0.011669</td>\n",
       "    </tr>\n",
       "    <tr>\n",
       "      <th>y</th>\n",
       "      <td>0.135699</td>\n",
       "      <td>0.116760</td>\n",
       "      <td>0.110323</td>\n",
       "      <td>0.073006</td>\n",
       "      <td>0.058201</td>\n",
       "      <td>0.047783</td>\n",
       "    </tr>\n",
       "    <tr>\n",
       "      <th>z</th>\n",
       "      <td>0.000845</td>\n",
       "      <td>0.000700</td>\n",
       "      <td>0.000655</td>\n",
       "      <td>0.001504</td>\n",
       "      <td>0.001829</td>\n",
       "      <td>0.002011</td>\n",
       "    </tr>\n",
       "  </tbody>\n",
       "</table>\n",
       "</div>"
      ],
      "text/plain": [
       "sex                 F                             M                    \n",
       "year             2000      2010      2020      2000      2010      2020\n",
       "last_letter                                                            \n",
       "a            0.372423  0.381253  0.382077  0.020812  0.015065  0.019610\n",
       "b            0.000205  0.000256  0.000331  0.025940  0.020496  0.010517\n",
       "c            0.000289  0.000539  0.000553  0.013765  0.012183  0.009693\n",
       "d            0.002414  0.001489  0.002360  0.032776  0.023394  0.022615\n",
       "e            0.175425  0.178424  0.177226  0.075863  0.067968  0.067718\n",
       "f            0.000015  0.000055  0.000101  0.000877  0.001206  0.001569\n",
       "g            0.000322  0.000377  0.000439  0.001223  0.001407  0.002667\n",
       "h            0.064642  0.075989  0.069198  0.043353  0.051822  0.054508\n",
       "i            0.023461  0.031697  0.047678  0.009355  0.022670  0.032438\n",
       "j            0.000054  0.000093  0.000087  0.000469  0.000772  0.000849\n",
       "k            0.000319  0.000355  0.000362  0.022681  0.018532  0.020408\n",
       "l            0.031196  0.026390  0.021209  0.079176  0.070457  0.065354\n",
       "m            0.002107  0.002599  0.004158  0.021124  0.024706  0.032865\n",
       "n            0.136865  0.140053  0.113937  0.313020  0.362410  0.314847\n",
       "o            0.001213  0.001247  0.002166  0.041044  0.042563  0.060136\n",
       "p            0.000022  0.000020  0.000095  0.001810  0.001269  0.001512\n",
       "q                 NaN  0.000030  0.000043  0.000357  0.000180  0.000192\n",
       "r            0.027969  0.018047  0.033274  0.086377  0.087393  0.095193\n",
       "s            0.017958  0.013337  0.011769  0.074373  0.065158  0.077964\n",
       "t            0.005395  0.007838  0.014742  0.025825  0.022861  0.032832\n",
       "u            0.000263  0.000416  0.000667  0.000915  0.001228  0.003375\n",
       "v            0.000023  0.000117  0.000290  0.000501  0.001451  0.001678\n",
       "w            0.000468  0.001190  0.004168  0.028409  0.016183  0.009996\n",
       "x            0.000406  0.000730  0.002093  0.005444  0.008599  0.011669\n",
       "y            0.135699  0.116760  0.110323  0.073006  0.058201  0.047783\n",
       "z            0.000845  0.000700  0.000655  0.001504  0.001829  0.002011"
      ]
     },
     "execution_count": 36,
     "metadata": {},
     "output_type": "execute_result"
    }
   ],
   "source": [
    "letter_prop"
   ]
  },
  {
   "cell_type": "code",
   "execution_count": 41,
   "id": "d75a34f8-add0-4a42-a796-9d3877d4441a",
   "metadata": {},
   "outputs": [
    {
     "data": {
      "text/plain": [
       "<AxesSubplot:title={'center':'Female'}, xlabel='last_letter'>"
      ]
     },
     "execution_count": 41,
     "metadata": {},
     "output_type": "execute_result"
    },
    {
     "data": {
      "image/png": "[encoded data removed]",
      "text/plain": [
       "<Figure size 864x576 with 2 Axes>"
      ]
     },
     "metadata": {
      "needs_background": "light"
     },
     "output_type": "display_data"
    }
   ],
   "source": [
    "fig,axes=plt.subplots(2,1, figsize=(12,8))\n",
    "letter_prop['M'].plot(kind='bar',rot=0, ax=axes[0], title='Male')\n",
    "letter_prop['F'].plot(kind='bar', rot=0, ax=axes[1], title='Female', legend=False)"
   ]
  },
  {
   "cell_type": "markdown",
   "id": "82ec2820-d6b9-47f2-9740-587429f1c387",
   "metadata": {},
   "source": [
    "As you can see, boy names ending in n have experienced significant growth since the 2000s. Going back to the full table created before. I again normalize by year and sex and select a subset of letters for the boy names, finally transposing to make each column a time series:"
   ]
  },
  {
   "cell_type": "code",
   "execution_count": 42,
   "id": "07403b5a-a1a5-47ee-be03-341330b75cab",
   "metadata": {},
   "outputs": [],
   "source": [
    "ltter_prop= table/table.sum()"
   ]
  },
  {
   "cell_type": "code",
   "execution_count": 43,
   "id": "01e19309-9641-461e-81cc-2c6f0d4a4fc4",
   "metadata": {},
   "outputs": [],
   "source": [
    "dny_nms=ltter_prop.loc[['d','n','y'],'M'].T"
   ]
  },
  {
   "cell_type": "code",
   "execution_count": 44,
   "id": "176da151-9d2d-443a-8d29-3042a8cf95ed",
   "metadata": {},
   "outputs": [
    {
     "data": {
      "text/html": [
       "<div>\n",
       "<style scoped>\n",
       "    .dataframe tbody tr th:only-of-type {\n",
       "        vertical-align: middle;\n",
       "    }\n",
       "\n",
       "    .dataframe tbody tr th {\n",
       "        vertical-align: top;\n",
       "    }\n",
       "\n",
       "    .dataframe thead th {\n",
       "        text-align: right;\n",
       "    }\n",
       "</style>\n",
       "<table border=\"1\" class=\"dataframe\">\n",
       "  <thead>\n",
       "    <tr style=\"text-align: right;\">\n",
       "      <th>last_letter</th>\n",
       "      <th>d</th>\n",
       "      <th>n</th>\n",
       "      <th>y</th>\n",
       "    </tr>\n",
       "    <tr>\n",
       "      <th>year</th>\n",
       "      <th></th>\n",
       "      <th></th>\n",
       "      <th></th>\n",
       "    </tr>\n",
       "  </thead>\n",
       "  <tbody>\n",
       "    <tr>\n",
       "      <th>1880</th>\n",
       "      <td>0.083057</td>\n",
       "      <td>0.153217</td>\n",
       "      <td>0.075763</td>\n",
       "    </tr>\n",
       "    <tr>\n",
       "      <th>1881</th>\n",
       "      <td>0.083246</td>\n",
       "      <td>0.153219</td>\n",
       "      <td>0.077458</td>\n",
       "    </tr>\n",
       "    <tr>\n",
       "      <th>1882</th>\n",
       "      <td>0.085332</td>\n",
       "      <td>0.149561</td>\n",
       "      <td>0.077538</td>\n",
       "    </tr>\n",
       "    <tr>\n",
       "      <th>1883</th>\n",
       "      <td>0.084053</td>\n",
       "      <td>0.151656</td>\n",
       "      <td>0.079149</td>\n",
       "    </tr>\n",
       "    <tr>\n",
       "      <th>1884</th>\n",
       "      <td>0.086122</td>\n",
       "      <td>0.149927</td>\n",
       "      <td>0.080408</td>\n",
       "    </tr>\n",
       "  </tbody>\n",
       "</table>\n",
       "</div>"
      ],
      "text/plain": [
       "last_letter         d         n         y\n",
       "year                                     \n",
       "1880         0.083057  0.153217  0.075763\n",
       "1881         0.083246  0.153219  0.077458\n",
       "1882         0.085332  0.149561  0.077538\n",
       "1883         0.084053  0.151656  0.079149\n",
       "1884         0.086122  0.149927  0.080408"
      ]
     },
     "execution_count": 44,
     "metadata": {},
     "output_type": "execute_result"
    }
   ],
   "source": [
    "dny_nms.head()"
   ]
  },
  {
   "cell_type": "code",
   "execution_count": 45,
   "id": "8b0417a1-0d82-4740-9991-b9728ac8478a",
   "metadata": {},
   "outputs": [
    {
     "data": {
      "text/plain": [
       "<AxesSubplot:xlabel='year'>"
      ]
     },
     "execution_count": 45,
     "metadata": {},
     "output_type": "execute_result"
    },
    {
     "data": {
      "image/png": "[encoded data removed]",
      "text/plain": [
       "<Figure size 432x288 with 1 Axes>"
      ]
     },
     "metadata": {
      "needs_background": "light"
     },
     "output_type": "display_data"
    }
   ],
   "source": [
    "dny_nms.plot()"
   ]
  },
  {
   "cell_type": "code",
   "execution_count": null,
   "id": "1397688d-d38b-4c14-90a9-75bbdc0524c3",
   "metadata": {},
   "outputs": [],
   "source": []
  },
  {
   "cell_type": "markdown",
   "id": "d2388c27-d5c3-48ff-bf0f-a3802b178ef0",
   "metadata": {},
   "source": [
    "Boy names that became girl names (and vice versa)"
   ]
  },
  {
   "cell_type": "markdown",
   "id": "7aa3479e-1906-40f3-9cd9-569fa789a9b8",
   "metadata": {},
   "source": [
    "We can look ar names that were more popular with one gender earlier. In the sample but have become preffered as a name for the other gender over time. One example is the nem Lesley or Leslie. Going back to the top1000_names DataFrame, I compute a list of names occuring in the dataset starting with 'Lesl':"
   ]
  },
  {
   "cell_type": "code",
   "execution_count": 46,
   "id": "1a508e6f-5a78-4429-93d7-9b789efab6fd",
   "metadata": {},
   "outputs": [],
   "source": [
    "all_names=pd.Series(top1000_names['name'].unique())"
   ]
  },
  {
   "cell_type": "code",
   "execution_count": 47,
   "id": "938e8c5f-a64a-4b2c-8b7e-1d72304cf38a",
   "metadata": {},
   "outputs": [
    {
     "data": {
      "text/plain": [
       "632     Leslie\n",
       "2293    Lesley\n",
       "4265    Leslee\n",
       "4733     Lesli\n",
       "6109     Lesly\n",
       "dtype: object"
      ]
     },
     "execution_count": 47,
     "metadata": {},
     "output_type": "execute_result"
    }
   ],
   "source": [
    "lesley_like= all_names[all_names.str.contains('Lesl')]\n",
    "lesley_like"
   ]
  },
  {
   "cell_type": "code",
   "execution_count": null,
   "id": "eb7160e7-0778-46ff-9d8a-2d1c4fc206d8",
   "metadata": {},
   "outputs": [],
   "source": []
  },
  {
   "cell_type": "code",
   "execution_count": 48,
   "id": "4a274304-03cb-4f7f-83e0-43de730c5821",
   "metadata": {},
   "outputs": [],
   "source": [
    "filtered= top1000_names[top1000_names['name'].isin(lesley_like)]"
   ]
  },
  {
   "cell_type": "code",
   "execution_count": 49,
   "id": "4dceb991-cb08-4eec-9ae7-bfffd20c9316",
   "metadata": {},
   "outputs": [
    {
     "data": {
      "text/plain": [
       "name\n",
       "Leslee      1082\n",
       "Lesley     35037\n",
       "Lesli        929\n",
       "Leslie    379236\n",
       "Lesly      11433\n",
       "Name: count, dtype: int64"
      ]
     },
     "execution_count": 49,
     "metadata": {},
     "output_type": "execute_result"
    }
   ],
   "source": [
    "filtered.groupby('name')['count'].sum()"
   ]
  },
  {
   "cell_type": "code",
   "execution_count": 50,
   "id": "66934a32-a70d-4769-86cf-a39ce818d3e0",
   "metadata": {},
   "outputs": [],
   "source": [
    "#NExt let's aggregate by sex and year, and normalize within year:"
   ]
  },
  {
   "cell_type": "code",
   "execution_count": 51,
   "id": "88a4aa9e-c48a-4068-807b-13c1026c928f",
   "metadata": {},
   "outputs": [],
   "source": [
    "table=filtered.pivot_table('count', index='year', columns='sex', aggfunc='sum')"
   ]
  },
  {
   "cell_type": "code",
   "execution_count": 54,
   "id": "1abc8644-1062-4909-976b-b282114d7904",
   "metadata": {},
   "outputs": [],
   "source": [
    "table= table.div(table.sum(axis='columns'), axis='index')"
   ]
  },
  {
   "cell_type": "code",
   "execution_count": 55,
   "id": "d7b87d7d-701d-4203-8fd0-1778457c05fe",
   "metadata": {},
   "outputs": [
    {
     "data": {
      "text/html": [
       "<div>\n",
       "<style scoped>\n",
       "    .dataframe tbody tr th:only-of-type {\n",
       "        vertical-align: middle;\n",
       "    }\n",
       "\n",
       "    .dataframe tbody tr th {\n",
       "        vertical-align: top;\n",
       "    }\n",
       "\n",
       "    .dataframe thead th {\n",
       "        text-align: right;\n",
       "    }\n",
       "</style>\n",
       "<table border=\"1\" class=\"dataframe\">\n",
       "  <thead>\n",
       "    <tr style=\"text-align: right;\">\n",
       "      <th>sex</th>\n",
       "      <th>F</th>\n",
       "      <th>M</th>\n",
       "    </tr>\n",
       "    <tr>\n",
       "      <th>year</th>\n",
       "      <th></th>\n",
       "      <th></th>\n",
       "    </tr>\n",
       "  </thead>\n",
       "  <tbody>\n",
       "    <tr>\n",
       "      <th>1880</th>\n",
       "      <td>0.091954</td>\n",
       "      <td>0.908046</td>\n",
       "    </tr>\n",
       "    <tr>\n",
       "      <th>1881</th>\n",
       "      <td>0.106796</td>\n",
       "      <td>0.893204</td>\n",
       "    </tr>\n",
       "    <tr>\n",
       "      <th>1882</th>\n",
       "      <td>0.065693</td>\n",
       "      <td>0.934307</td>\n",
       "    </tr>\n",
       "    <tr>\n",
       "      <th>1883</th>\n",
       "      <td>0.053030</td>\n",
       "      <td>0.946970</td>\n",
       "    </tr>\n",
       "    <tr>\n",
       "      <th>1884</th>\n",
       "      <td>0.107143</td>\n",
       "      <td>0.892857</td>\n",
       "    </tr>\n",
       "  </tbody>\n",
       "</table>\n",
       "</div>"
      ],
      "text/plain": [
       "sex          F         M\n",
       "year                    \n",
       "1880  0.091954  0.908046\n",
       "1881  0.106796  0.893204\n",
       "1882  0.065693  0.934307\n",
       "1883  0.053030  0.946970\n",
       "1884  0.107143  0.892857"
      ]
     },
     "execution_count": 55,
     "metadata": {},
     "output_type": "execute_result"
    }
   ],
   "source": [
    "table.head()"
   ]
  },
  {
   "cell_type": "code",
   "execution_count": 57,
   "id": "a3b1e2ab-f93f-4d21-b673-c2c38edf4d71",
   "metadata": {},
   "outputs": [
    {
     "data": {
      "text/plain": [
       "<AxesSubplot:xlabel='year'>"
      ]
     },
     "execution_count": 57,
     "metadata": {},
     "output_type": "execute_result"
    },
    {
     "data": {
      "image/png": "[encoded data removed]",
      "text/plain": [
       "<Figure size 432x288 with 1 Axes>"
      ]
     },
     "metadata": {
      "needs_background": "light"
     },
     "output_type": "display_data"
    }
   ],
   "source": [
    "table.plot(style={'M':'k-', 'F':'k--'})"
   ]
  },
  {
   "cell_type": "code",
   "execution_count": null,
   "id": "5d42785e-6f20-400c-931c-3789614c9c36",
   "metadata": {},
   "outputs": [],
   "source": []
  }
 ],
 "metadata": {
  "kernelspec": {
   "display_name": "Python 3 (ipykernel)",
   "language": "python",
   "name": "python3"
  },
  "language_info": {
   "codemirror_mode": {
    "name": "ipython",
    "version": 3
   },
   "file_extension": ".py",
   "mimetype": "text/x-python",
   "name": "python",
   "nbconvert_exporter": "python",
   "pygments_lexer": "ipython3",
   "version": "3.9.7"
  }
 },
 "nbformat": 4,
 "nbformat_minor": 5
}
